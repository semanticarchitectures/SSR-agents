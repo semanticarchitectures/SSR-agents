{
  "nbformat": 4,
  "nbformat_minor": 0,
  "metadata": {
    "colab": {
      "provenance": [],
      "authorship_tag": "ABX9TyO9pl/DeIigohUhQAVdi0wa",
      "include_colab_link": true
    },
    "kernelspec": {
      "name": "python3",
      "display_name": "Python 3"
    },
    "language_info": {
      "name": "python"
    }
  },
  "cells": [
    {
      "cell_type": "markdown",
      "metadata": {
        "id": "view-in-github",
        "colab_type": "text"
      },
      "source": [
        "<a href=\"https://colab.research.google.com/github/semanticarchitectures/SSR-agents/blob/main/createProject.ipynb\" target=\"_parent\"><img src=\"https://colab.research.google.com/assets/colab-badge.svg\" alt=\"Open In Colab\"/></a>"
      ]
    },
    {
      "cell_type": "code",
      "execution_count": 2,
      "metadata": {
        "id": "iuAPWDYSkV3k",
        "colab": {
          "base_uri": "https://localhost:8080/"
        },
        "outputId": "a24ed4eb-7e95-4d61-d42e-e2758fb66362"
      },
      "outputs": [
        {
          "output_type": "stream",
          "name": "stdout",
          "text": [
            "mkdir: cannot create directory ‘ISRBrokerSimulation’: File exists\n",
            "mkdir: cannot create directory ‘ISRBrokerSimulation/docs’: File exists\n",
            "mkdir: cannot create directory ‘ISRBrokerSimulation/src’: File exists\n",
            "mkdir: cannot create directory ‘ISRBrokerSimulation/src/broker’: File exists\n",
            "mkdir: cannot create directory ‘ISRBrokerSimulation/src/platform_sim’: File exists\n",
            "mkdir: cannot create directory ‘ISRBrokerSimulation/src/processing_sim’: File exists\n",
            "mkdir: cannot create directory ‘ISRBrokerSimulation/src/database’: File exists\n",
            "mkdir: cannot create directory ‘ISRBrokerSimulation/src/utils’: File exists\n",
            "mkdir: cannot create directory ‘ISRBrokerSimulation/src/api’: File exists\n",
            "mkdir: cannot create directory ‘ISRBrokerSimulation/src/ui’: File exists\n",
            "mkdir: cannot create directory ‘ISRBrokerSimulation/src/ui/templates’: File exists\n",
            "mkdir: cannot create directory ‘ISRBrokerSimulation/src/ui/static’: File exists\n",
            "mkdir: cannot create directory ‘ISRBrokerSimulation/src/monitoring’: File exists\n",
            "mkdir: cannot create directory ‘ISRBrokerSimulation/tests’: File exists\n",
            "Requirement already satisfied: requests in /usr/local/lib/python3.11/dist-packages (from -r ISRBrokerSimulation/requirements.txt (line 1)) (2.32.3)\n",
            "Requirement already satisfied: charset-normalizer<4,>=2 in /usr/local/lib/python3.11/dist-packages (from requests->-r ISRBrokerSimulation/requirements.txt (line 1)) (3.4.1)\n",
            "Requirement already satisfied: idna<4,>=2.5 in /usr/local/lib/python3.11/dist-packages (from requests->-r ISRBrokerSimulation/requirements.txt (line 1)) (3.10)\n",
            "Requirement already satisfied: urllib3<3,>=1.21.1 in /usr/local/lib/python3.11/dist-packages (from requests->-r ISRBrokerSimulation/requirements.txt (line 1)) (2.3.0)\n",
            "Requirement already satisfied: certifi>=2017.4.17 in /usr/local/lib/python3.11/dist-packages (from requests->-r ISRBrokerSimulation/requirements.txt (line 1)) (2025.1.31)\n"
          ]
        }
      ],
      "source": [
        "# To access Secrets\n",
        "from google.colab import userdata\n",
        "\n",
        "# Create the project structure in Colab\n",
        "!mkdir ISRBrokerSimulation\n",
        "!mkdir ISRBrokerSimulation/docs\n",
        "!mkdir ISRBrokerSimulation/src\n",
        "!mkdir ISRBrokerSimulation/src/broker\n",
        "!mkdir ISRBrokerSimulation/src/platform_sim\n",
        "!mkdir ISRBrokerSimulation/src/processing_sim\n",
        "!mkdir ISRBrokerSimulation/src/database\n",
        "!mkdir ISRBrokerSimulation/src/utils\n",
        "!mkdir ISRBrokerSimulation/src/api\n",
        "!mkdir ISRBrokerSimulation/src/ui\n",
        "!mkdir ISRBrokerSimulation/src/ui/templates\n",
        "!mkdir ISRBrokerSimulation/src/ui/static\n",
        "!mkdir ISRBrokerSimulation/src/monitoring\n",
        "!mkdir ISRBrokerSimulation/tests\n",
        "\n",
        "# Create empty Python files and other files\n",
        "!touch ISRBrokerSimulation/src/broker/__init__.py\n",
        "!touch ISRBrokerSimulation/src/broker/request_handler.py\n",
        "!touch ISRBrokerSimulation/src/broker/budget_allocator.py\n",
        "!touch ISRBrokerSimulation/src/broker/task_planner.py\n",
        "!touch ISRBrokerSimulation/src/broker/platform_manager.py\n",
        "!touch ISRBrokerSimulation/src/broker/data_manager.py\n",
        "!touch ISRBrokerSimulation/src/broker/product_manager.py\n",
        "!touch ISRBrokerSimulation/src/broker/models.py\n",
        "!touch ISRBrokerSimulation/src/platform_sim/__init__.py\n",
        "!touch ISRBrokerSimulation/src/platform_sim/platform_interface.py\n",
        "!touch ISRBrokerSimulation/src/platform_sim/simulated_sat1.py\n",
        "!touch ISRBrokerSimulation/src/platform_sim/simulated_sat2.py\n",
        "!touch ISRBrokerSimulation/src/platform_sim/orbit_simulator.py\n",
        "!touch ISRBrokerSimulation/src/processing_sim/__init__.py\n",
        "!touch ISRBrokerSimulation/src/processing_sim/processor_interface.py\n",
        "!touch ISRBrokerSimulation/src/processing_sim/image_processor.py\n",
        "!touch ISRBrokerSimulation/src/processing_sim/feature_extractor.py\n",
        "!touch ISRBrokerSimulation/src/processing_sim/object_detector.py\n",
        "!touch ISRBrokerSimulation/src/database/__init__.py\n",
        "!touch ISRBrokerSimulation/src/database/database_interface.py\n",
        "!touch ISRBrokerSimulation/src/database/database_mock.py\n",
        "!touch ISRBrokerSimulation/src/utils/__init__.py\n",
        "!touch ISRBrokerSimulation/src/utils/geometry.py\n",
        "!touch ISRBrokerSimulation/src/utils/time_utils.py\n",
        "!touch ISRBrokerSimulation/src/utils/config.py\n",
        "!touch ISRBrokerSimulation/src/api/__init__.py\n",
        "!touch ISRBrokerSimulation/src/api/routes.py\n",
        "!touch ISRBrokerSimulation/src/api/schemas.py\n",
        "!touch ISRBrokerSimulation/src/ui/__init__.py\n",
        "!touch ISRBrokerSimulation/src/ui/app.py\n",
        "!touch ISRBrokerSimulation/src/ui/templates/index.html\n",
        "!touch ISRBrokerSimulation/src/ui/templates/request_form.html\n",
        "!touch ISRBrokerSimulation/src/ui/static/style.css\n",
        "!touch ISRBrokerSimulation/src/ui/static/script.js\n",
        "!touch ISRBrokerSimulation/src/monitoring/__init__.py\n",
        "!touch ISRBrokerSimulation/src/monitoring/logger.py\n",
        "!touch ISRBrokerSimulation/src/monitoring/metrics.py\n",
        "!touch ISRBrokerSimulation/src/main.py\n",
        "!touch ISRBrokerSimulation/tests/__init__.py\n",
        "!touch ISRBrokerSimulation/tests/test_broker.py\n",
        "!touch ISRBrokerSimulation/tests/test_platform_sim.py\n",
        "!touch ISRBrokerSimulation/tests/test_processing_sim.py\n",
        "!touch ISRBrokerSimulation/tests/test_api.py\n",
        "!touch ISRBrokerSimulation/requirements.txt\n",
        "!touch ISRBrokerSimulation/pyproject.toml\n",
        "!touch ISRBrokerSimulation/README.md\n",
        "!touch ISRBrokerSimulation/LICENSE\n",
        "\n",
        "# Install Flask and other necessary packages\n",
        "!echo \"flask\" > ISRBrokerSimulation/requirements.txt\n",
        "!echo \"marshmallow\" >> ISRBrokerSimulation/requirements.txt\n",
        "!echo \"requests\" > ISRBrokerSimulation/requirements.txt\n",
        "!pip install -r ISRBrokerSimulation/requirements.txt\n",
        "\n",
        "# Example content for a few files (replace with your actual code)\n",
        "\n"
      ]
    },
    {
      "cell_type": "code",
      "source": [
        "\n",
        "# GitHub Integration Steps:\n",
        "\n",
        "# 1. Initialize a Git repository\n",
        "%cd ISRBrokerSimulation\n",
        "\n",
        "!git config --global user.email \"kevin.g.kelly@semanticarchitectures.com\"\n",
        "!git config --global user.name \"Kevin Kelly\"\n",
        "\n",
        "!git init\n",
        "!git add .\n",
        "!git commit -m \"Initial commit\"\n",
        "\n",
        "# 2. Connect to a GitHub Repository (Replace with your repository details)\n",
        "# You need to create an empty repository in your GitHub account first.\n",
        "github_username = \"semanticarchitectures\" # Replace with your GitHub username\n",
        "github_repo_name = \"ISRBrokerSimulation\" # Replace with your repository name\n",
        "github_token = userdata.get('GITHUB_TOKEN') # Replace with your GitHub personal access token, with repo permissions.\n",
        "remote_repo_url = f\"https://{github_token}@github.com/{github_username}/{github_repo_name}.git\"\n",
        "\n",
        "\n",
        "!git remote add origin {remote_repo_url}\n",
        "\n",
        "# 3. Push the initial commit to GitHub\n",
        "!git branch -M main\n",
        "!git push -u origin main\n",
        "\n",
        "# 4. Add a .gitignore file\n",
        "!echo \"__pycache__/\\n*.pyc\\n*.log\\n.env\\n.DS_Store\" > .gitignore\n",
        "!git add .gitignore\n",
        "!git commit -m \"Added .gitignore\"\n",
        "!git push origin main\n",
        "\n",
        "# 5. Make changes, commit, and push regularly.\n",
        "# Example:\n",
        "# !echo \"New change\" >> src/ui/templates/index.html\n",
        "# !git add src/ui/templates/index.html\n",
        "# !git commit -m \"Updated index.html\"\n",
        "# !git push origin main\n"
      ],
      "metadata": {
        "colab": {
          "base_uri": "https://localhost:8080/"
        },
        "id": "IrXZjpPyn2vX",
        "outputId": "827049b5-6e82-4a77-9916-4230fc536546"
      },
      "execution_count": 5,
      "outputs": [
        {
          "output_type": "stream",
          "name": "stdout",
          "text": [
            "[Errno 2] No such file or directory: 'ISRBrokerSimulation'\n",
            "/content/ISRBrokerSimulation\n",
            "Reinitialized existing Git repository in /content/ISRBrokerSimulation/.git/\n",
            "On branch main\n",
            "nothing to commit, working tree clean\n",
            "error: remote origin already exists.\n",
            "remote: Repository not found.\n",
            "fatal: repository 'https://github.com/semanticarchitectures/ISRBrokerSimulation.git/' not found\n",
            "On branch main\n",
            "nothing to commit, working tree clean\n",
            "remote: Repository not found.\n",
            "fatal: repository 'https://github.com/semanticarchitectures/ISRBrokerSimulation.git/' not found\n"
          ]
        }
      ]
    },
    {
      "cell_type": "code",
      "source": [],
      "metadata": {
        "id": "UcogkTUi1NtJ"
      },
      "execution_count": null,
      "outputs": []
    },
    {
      "cell_type": "code",
      "source": [
        "\n",
        "# ISRBrokerSimulation/src/api/routes.py\n",
        "!echo \"from flask import Blueprint, request, jsonify\\napi_bp = Blueprint('api', __name__)\\n\\n@api_bp.route('/requests', methods=['POST'])\\ndef create_request():\\n    return jsonify({'message': 'Request received'})\" > ISRBrokerSimulation/src/api/routes.py\n",
        "\n",
        "# ISRBrokerSimulation/src/ui/app.py\n",
        "!echo \"from flask import Flask, render_template\\napp = Flask(__name__, template_folder='templates', static_folder='static')\\n\\n@app.route('/')\\ndef index():\\n    return render_template('index.html')\\n\\nif __name__ == '__main__':\\n    app.run(debug=True, port=8080)\" > ISRBrokerSimulation/src/ui/app.py\n",
        "\n",
        "# ISRBrokerSimulation/src/ui/templates/index.html\n",
        "!echo \"<h1>Welcome to the ISR Broker Simulation</h1>\" > ISRBrokerSimulation/src/ui/templates/index.html\n",
        "\n",
        "# ISRBrokerSimulation/src/main.py\n",
        "!echo \"from src.ui.app import app as ui_app\\nfrom src.api.routes import api_bp\\nfrom flask import Flask\\n\\napp = Flask(__name__)\\napp.register_blueprint(api_bp, url_prefix='/api')\\n\\nif __name__ == '__main__':\\n    ui_app.run(debug=True, port=8080)\" > ISRBrokerSimulation/src/main.py\n",
        "\n",
        "# Add flask blueprint to main app.\n",
        "\n",
        "!echo \"<h1>Welcome to the ISR Broker Simulation</h1>\" > ISRBrokerSimulation/src/ui/templates/index.html\n",
        "\n",
        "# Run the application (example)\n",
        "%cd ISRBrokerSimulation/src\n",
        "!python main.py &\n",
        "%cd /content/\n"
      ],
      "metadata": {
        "id": "ui45IqHBnOD8"
      },
      "execution_count": null,
      "outputs": []
    }
  ]
}